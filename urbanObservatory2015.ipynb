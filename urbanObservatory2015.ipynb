{
 "cells": [
  {
   "cell_type": "code",
   "execution_count": 1,
   "metadata": {
    "collapsed": true
   },
   "outputs": [],
   "source": [
    "import pandas as pd\n",
    "import unicodedata\n",
    "import numpy as np\n",
    "from mapaCiudades2015 import mapaCiudades2015"
   ]
  },
  {
   "cell_type": "code",
   "execution_count": 2,
   "metadata": {
    "collapsed": true
   },
   "outputs": [],
   "source": [
    "ciudades2015 = {\n",
    "'Barranquilla':'https://www.caf.com/media/5114763/OMU%20CAF%20Barranquilla%202015.xlsx',\n",
    "'Bello Horizonte':'https://www.caf.com/media/5114772/OMU%20CAF%20Bello%20Horizonte%202015.xlsx',\n",
    "'Bogota':'https://www.caf.com/media/5114781/omu_caf_bogota_2015.xlsx',\n",
    "'Brasilia':'https://www.caf.com/media/5114790/OMU%20CAF%20Brasilia%202015.xlsx',\n",
    "'Buenos Aires':'https://www.caf.com/media/5114799/OMU%20CAF%20Buenos%20Aires%202015.xlsx',\n",
    "'Cali':'https://www.caf.com/media/5114808/OMU%20CAF%20Cali%202015.xlsx',\n",
    "'Caracas':'https://www.caf.com/media/5114817/OMU%20CAF%20Caracas%202015.xlsx',\n",
    "'Ciudad de Mexico':'https://www.caf.com/media/5114826/OMU%20CAF%20Ciudad%20de%20Mexico%202015.xlsx',\n",
    "'Curitiba':'https://www.caf.com/media/5114835/OMU%20CAF%20Curitiba%202015.xlsx',\n",
    "'Florianopolis':'https://www.caf.com/media/5114844/OMU%20CAF%20Florianopolis%202015.xlsx',\n",
    "'Guadalajara':'https://www.caf.com/media/5114853/OMU%20CAF%20Guadalajara%202015.xlsx',\n",
    "'Leon':'https://www.caf.com/media/5114862/OMU%20CAF%20Leon%202015.xlsx',\n",
    "'Lima':'https://www.caf.com/media/5114871/OMU%20CAF%20Lima%202015.xlsx',\n",
    "'Manaos':'https://www.caf.com/media/5114880/OMU%20CAF%20Manaos%202015.xlsx',\n",
    "'Medellin':'https://www.caf.com/media/5114889/OMU%20CAF%20Medellin%202015.xlsx',\n",
    "'Monteria':'https://www.caf.com/media/5114898/OMU%20CAF%20Monteria%202015.xlsx',\n",
    "'Montevideo':'https://www.caf.com/media/5114907/OMU%20CAF%20Montevideo%202015.xlsx',\n",
    "'Panama':'https://www.caf.com/media/5114916/OMU%20CAF%20Panama%202015.xlsx',\n",
    "'Pereira':'https://www.caf.com/media/5114925/OMU%20CAF%20Pereira%202015.xlsx',\n",
    "'Porto Alegre':'https://www.caf.com/media/5114934/OMU%20CAF%20Porto%20Alegre%202015.xlsx',\n",
    "'Quito':'https://www.caf.com/media/5114943/OMU%20CAF%20Quito%202015.xlsx',\n",
    "'Recife':'https://www.caf.com/media/5114952/OMU%20CAF%20Recife%202015.xlsx',\n",
    "'Rio de Janeiro':'https://www.caf.com/media/5114961/OMU%20CAF%20Rio%20de%20Janeiro%202015.xlsx',\n",
    "'Rosario':'https://www.caf.com/media/5114970/OMU%20CAF%20Rosario%202015.xlsx',\n",
    "'Salvador de Bahia':'https://www.caf.com/media/5114979/OMU%20CAF%20Salvador%20de%20Bahia%202015.xlsx',\n",
    "'San Jose':'https://www.caf.com/media/5114988/OMU%20CAF%20San%20Jose%202015.xlsx',\n",
    "'San Pablo':'https://www.caf.com/media/5114997/OMU%20CAF%20San%20Pablo%202015.xlsx',\n",
    "'Santa Cruz de la Sierra':'https://www.caf.com/media/5115006/OMU%20CAF%20Santa%20Cruz%20de%20la%20Sierra%202015.xlsx',\n",
    "'Santiago de Chile':'https://www.caf.com/media/5115015/OMU%20CAF%20Santiago%20de%20Chile%202015.xlsx'\n",
    "}\n"
   ]
  },
  {
   "cell_type": "code",
   "execution_count": 3,
   "metadata": {
    "collapsed": true
   },
   "outputs": [],
   "source": [
    "def borrarAcento(string):\n",
    "    if string == u'Intersecciones con semáforo':\n",
    "        string = 'Inters. Semaforicas'\n",
    "        return string\n",
    "    elif string == u'Intersecciones con semáforos':\n",
    "        string = 'Inters. Semaforicas'\n",
    "        return string\n",
    "    else:\n",
    "        try:\n",
    "            return unicodedata.normalize('NFD', string).encode('ascii', 'ignore').strip()\n",
    "        except:\n",
    "            return np.nan\n",
    "\n",
    "def datosGenerales2015(nombre):\n",
    "    data = pd.read_excel(ciudades2015[nombre],header=1,skip_footer=4,parse_cols=[1,2])\n",
    "    data = data.T\n",
    "    data = data.reset_index(drop=True)\n",
    "    data.dropna(axis=1,how='all',inplace=True)\n",
    "    data.columns = [borrarAcento(i) for i in data.loc[0]]\n",
    "    \n",
    "    data['Clase de organizacion'] = [borrarAcento(i) for i in data['Clase de organizacion']]\n",
    "    data['Instrumento legal'] =  [borrarAcento(i) for i in data['Instrumento legal']]\n",
    "    \n",
    "    data.drop([0],inplace=True)\n",
    "    data.index=[nombre]\n",
    "    return data"
   ]
  },
  {
   "cell_type": "code",
   "execution_count": 4,
   "metadata": {},
   "outputs": [],
   "source": [
    "for i in range(len(ciudades2015)):\n",
    "    try:\n",
    "        if i == 0:\n",
    "            madre = datosGenerales2015(ciudades2015.keys()[i])\n",
    "        else:\n",
    "            madre = madre.append(datosGenerales2015(ciudades2015.keys()[i]))\n",
    "    except:\n",
    "        print ciudades2015.keys()[i]\n"
   ]
  },
  {
   "cell_type": "code",
   "execution_count": 5,
   "metadata": {
    "collapsed": true
   },
   "outputs": [],
   "source": [
    "madre['latitude'] = [mapaCiudades2015[i][0] for i in madre.index]\n",
    "madre['longitude'] = [mapaCiudades2015[i][1] for i in madre.index]\n"
   ]
  },
  {
   "cell_type": "code",
   "execution_count": 10,
   "metadata": {
    "collapsed": true
   },
   "outputs": [],
   "source": [
    "madre.Poblacion = madre.Poblacion.map(int)\n",
    "madre['PIB (USD billones)'] = pd.to_numeric(madre['PIB (USD billones)'],errors='coerce')\n",
    "madre['Salario minimo (USD)'] = pd.to_numeric(madre['Salario minimo (USD)'],errors='coerce')\n"
   ]
  },
  {
   "cell_type": "code",
   "execution_count": 12,
   "metadata": {
    "collapsed": true
   },
   "outputs": [],
   "source": [
    "madre.to_csv('ciudades2015.csv')"
   ]
  },
  {
   "cell_type": "code",
   "execution_count": 13,
   "metadata": {},
   "outputs": [
    {
     "data": {
      "text/plain": [
       "Km2                                                          object\n",
       "Poblacion                                                     int64\n",
       "Hab/km2 urb.                                                 object\n",
       "PIB (USD billones)                                          float64\n",
       "Salario minimo (USD)                                        float64\n",
       "Sistema vial (km)                                            object\n",
       "Inters. Semaforicas                                          object\n",
       "Vias con prioridad TC (km) - Acera                           object\n",
       "Vias con prioridad TC (km) - Centro de la via                object\n",
       "Vias con prioridad TC (km) - BRT                             object\n",
       "Prioridad TC sobre extension de las vias (%)                 object\n",
       "Ciclocarriles (km)                                           object\n",
       "Ciclovias (km)                                               object\n",
       "Otras clases de infraestructura/prioridad (km)               object\n",
       "Prioridad Ciclistas sobre extension de las vias (%)          object\n",
       "Taxis coletivos                                              object\n",
       "Jeeps                                                        object\n",
       "Combi/Vans                                                   object\n",
       "Microbus                                                     object\n",
       "Bus estandar                                                 object\n",
       "Articulado                                                   object\n",
       "Bi-articulado                                                object\n",
       "Tren1                                                        object\n",
       "Metro1                                                       object\n",
       "Tranvia1                                                     object\n",
       "Barcos                                                       object\n",
       "Clase de organizacion                                        object\n",
       "Instrumento legal                                            object\n",
       "Tarifa minima (US$ ) - Omnibus                               object\n",
       "Tarifa minima (US$ ) - Microbus                              object\n",
       "                                                             ...   \n",
       "Viaje/hab./dia - T individual                                object\n",
       "Viaje/hab./dia - T colectivo                                 object\n",
       "Viaje/hab./dia - A pie/bici                                  object\n",
       "Viaje/hab./dia - Total                                       object\n",
       "Operaciones especiales (km) - Vias exclusivas TC pico        object\n",
       "Operaciones especiales (km) - Vias reversibles TC pico       object\n",
       "Operaciones especiales (km) - Vias reversibles Auto pico     object\n",
       "Operaciones especiales (km) - Ciclovias Fines semana         object\n",
       "Operaciones especiales (km) - Pico y placa                   object\n",
       "Energia/hab/dia (gep)                                        object\n",
       "Victimas fatales (VF)                                        object\n",
       "VF/cien mil hab                                              object\n",
       "Automovil                                                    object\n",
       "Motocicleta                                                  object\n",
       "Autobus                                                      object\n",
       "Auto/bus                                                     object\n",
       "Moto/bus                                                     object\n",
       "Subsidios (USD millones/ano)                                 object\n",
       "Recaudacion (USD millones/ano)                               object\n",
       "% sub/rec                                                    object\n",
       "Patrimonio (USD millones) - Auto                             object\n",
       "Patrimonio (USD millones) - Moto                             object\n",
       "Patrimonio (USD millones) - Veh. uso publico                 object\n",
       "Patrimonio (USD millones) - Vias                             object\n",
       "Patrimonio (USD millones) - Prioridad TC                     object\n",
       "Patrimonio (USD millones) - Rieles                           object\n",
       "Patrimonio (USD millones) - Total                            object\n",
       "Patrimonio  USD/hab.                                         object\n",
       "latitude                                                    float64\n",
       "longitude                                                   float64\n",
       "Length: 76, dtype: object"
      ]
     },
     "execution_count": 13,
     "metadata": {},
     "output_type": "execute_result"
    }
   ],
   "source": [
    "madre.dtypes"
   ]
  },
  {
   "cell_type": "code",
   "execution_count": null,
   "metadata": {
    "collapsed": true
   },
   "outputs": [],
   "source": []
  }
 ],
 "metadata": {
  "kernelspec": {
   "display_name": "Python 2",
   "language": "python",
   "name": "python2"
  },
  "language_info": {
   "codemirror_mode": {
    "name": "ipython",
    "version": 2
   },
   "file_extension": ".py",
   "mimetype": "text/x-python",
   "name": "python",
   "nbconvert_exporter": "python",
   "pygments_lexer": "ipython2",
   "version": "2.7.13"
  }
 },
 "nbformat": 4,
 "nbformat_minor": 2
}
