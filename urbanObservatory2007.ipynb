{
 "cells": [
  {
   "cell_type": "code",
   "execution_count": 1,
   "metadata": {
    "collapsed": true
   },
   "outputs": [],
   "source": [
    "import pandas as pd"
   ]
  },
  {
   "cell_type": "code",
   "execution_count": 2,
   "metadata": {
    "collapsed": true
   },
   "outputs": [],
   "source": [
    "url = {\n",
    "    'Buenos Aires':'https://www.caf.com/media/2799006/2%20-%202%20-%20CAF-OMU_B.Ayres_2007_Madre.xlsx',\n",
    "      'Belo Horizonte':'https://www.caf.com/media/2799015/3%20-%203%20-%20CAF-OMU_Belo%20Horizonte_2007_Madre.xlsx',\n",
    "      'Bogota':'https://www.caf.com/media/2799024/4%20-%204%20-%20CAF-OMU_Bogota_2007_Madre.xlsx',\n",
    "       'Brasilia':'https://www.caf.com/media/2799033/5%20-%205%20-%20CAF-OMU_Brasilia_2007_Madre.xlsx',\n",
    "       'Caracas':'https://www.caf.com/media/2799042/6%20-%206%20-%20CAF-OMU_Caracas_2007_Madre.xlsx',\n",
    "       'Mexico':'https://www.caf.com/media/2799051/7%20-%207%20-%20CAF-OMU_Cd.Mexico_2007_Madre.xlsx',\n",
    "       'Curitiba':'https://www.caf.com/media/2799060/8%20-%208%20-%20CAF-OMU_Curitiba_2007_Madre.xlsx',\n",
    "       'Florianopolis':'https://www.caf.com/media/2799069/9%20-%209%20-%20CAF-OMU_Florianopolis_2010_Madre.xlsx',\n",
    "       'Guadalajara':'https://www.caf.com/media/2799078/10%20-%2010%20-%20CAF-OMU_Guadalajara_2007_Madre.xlsx',\n",
    "       'Leon':'https://www.caf.com/media/2799087/11%20-%2011%20-%20CAF-OMU_Leon_2007_Madre.xlsx',\n",
    "       'Lima':'https://www.caf.com/media/2799096/12%20-%2012%20-%20CAF-OMU_Lima_2007_Madre.xlsx',\n",
    "       'Manaus':'https://www.caf.com/media/2799105/13%20-%2013%20-%20CAF-OMU_Manaus_2010_Madre%20v%20final.xlsx',\n",
    "       'Montevideo':'https://www.caf.com/media/2799114/14%20-%2014%20-%20CAF-OMU_Montevideo_AM_2009_Madre.xlsx',\n",
    "       'Pereira':'https://www.caf.com/media/2799123/15%20-%2015%20-%20CAF-OMU_Pereira_2009_Madre.xlsx',\n",
    "       'Porto Alegre':'https://www.caf.com/media/2799132/16%20-%2016%20-%20CAF-OMU_Porto%20Alegre_2007_Madre.xlsx',\n",
    "       'Quito':'https://www.caf.com/media/2799141/17%20-%2017%20-%20CAF-OMU_Quito_2009_Madre.xlsx',\n",
    "       'Recife':'https://www.caf.com/media/2799150/18%20-%2018%20-%20CAF-OMU_Recife_2007_Madre.xlsx',\n",
    "       'Rio de Janeiro':'https://www.caf.com/media/2799159/19%20-%2019%20-%20CAF-OMU_Rio%20de%20Janeiro_2007_Madre.xlsx',\n",
    "       'Rosario':'https://www.caf.com/media/2799168/20%20-%2020%20-%20CAF-OMU_Rosario_2008_Madre.xlsx',\n",
    "       'Salvador':'https://www.caf.com/media/2799177/21%20-%2021%20-%20CAF-OMU_Salvador_2007_Madre_.xlsx',\n",
    "       'San Jose':'https://www.caf.com/media/2799186/22%20-%2022%20-%20CAF-OMU_San%20Jose_2007_Madre.xlsx',\n",
    "       'Santa Cruz':'https://www.caf.com/media/2799195/23%20-%2023%20-%20CAF-OMU_Santa%20Cruz%20de%20la%20Sierra_2011_Madre.xlsx',\n",
    "       'Santiago':'https://www.caf.com/media/2799204/24%20-%2024%20-%20CAF-OMU_Santiago_2007_Madre.xlsx',\n",
    "       'Sao Paulo':'https://www.caf.com/media/2799213/25%20-%2025%20-%20CAF-OMU_Sao%20Paulo_2007_Madre.xlsx',\n",
    "      'Panama':'https://www.caf.com/media/2799222/26%20-%2026%20-%20CAF-OMU_Panama_2010_Madre.xlsx'\n",
    "}"
   ]
  },
  {
   "cell_type": "code",
   "execution_count": 5,
   "metadata": {
    "collapsed": true
   },
   "outputs": [],
   "source": [
    "def datosGenerales2007(nombre):\n",
    "    try:\n",
    "        datosGenearles = pd.read_excel(url[nombre],'datos generales',na_values='NaN',parse_cols=range(9))\n",
    "    except:\n",
    "        datosGenearles = pd.read_excel(url[nombre],'datos generales ',na_values='NaN',parse_cols=range(9))\n",
    "    datosGenearles.dropna(axis=1,how='all',inplace=True)\n",
    "    datosGenearles.dropna(axis=0,how='all',inplace=True)\n",
    "    if nombre == 'Caracas':\n",
    "        datosGenearles = datosGenearles[datosGenearles.iloc[:,0]=='Total DMC'].reset_index(drop=True)\n",
    "    else:\n",
    "        datosGenearles = datosGenearles[datosGenearles.iloc[:,0]=='Total '].reset_index(drop=True)\n",
    "    datosGenearles.columns = ['ciudad','area_total','area_urb',\n",
    "                           'poblacion_total','poblacion_urb',\n",
    "                            'ingreso_mensual','flota_vahiculos','autos_particulares']\n",
    "    datosGenearles.ciudad=[nombre]\n",
    "    return datosGenearles"
   ]
  },
  {
   "cell_type": "code",
   "execution_count": 7,
   "metadata": {
    "scrolled": false
   },
   "outputs": [],
   "source": [
    "for i in range(len(url)):\n",
    "    if i == 0:\n",
    "        madre = datosGenerales2007(url.keys()[i])\n",
    "    else:\n",
    "        madre = madre.append(datosGenerales2007(url.keys()[i]))\n",
    "madre.to_csv('2007.csv')"
   ]
  },
  {
   "cell_type": "code",
   "execution_count": 10,
   "metadata": {},
   "outputs": [
    {
     "data": {
      "text/plain": [
       "0    3627.12\n",
       "Name: area_total, dtype: object"
      ]
     },
     "execution_count": 10,
     "metadata": {},
     "output_type": "execute_result"
    }
   ],
   "source": [
    "madre[madre.ciudad=='Porto Alegre'].area_total"
   ]
  },
  {
   "cell_type": "code",
   "execution_count": null,
   "metadata": {
    "collapsed": true
   },
   "outputs": [],
   "source": [
    "#caracas dice Total DMC\n",
    "#guadalajara y leon estan bien, asumo toda urbanizada?\n",
    "#brasilia y salvador esta bien"
   ]
  }
 ],
 "metadata": {
  "kernelspec": {
   "display_name": "Python 2",
   "language": "python",
   "name": "python2"
  },
  "language_info": {
   "codemirror_mode": {
    "name": "ipython",
    "version": 2
   },
   "file_extension": ".py",
   "mimetype": "text/x-python",
   "name": "python",
   "nbconvert_exporter": "python",
   "pygments_lexer": "ipython2",
   "version": "2.7.13"
  }
 },
 "nbformat": 4,
 "nbformat_minor": 2
}
